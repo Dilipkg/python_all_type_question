{
 "cells": [
  {
   "cell_type": "markdown",
   "id": "5300cd2c-c963-4ece-b941-881a36d57713",
   "metadata": {},
   "source": [
    "#Q1.Write a Python program to reverse a string without using any built-in string reversal functions\n",
    "def reverse(s):\n",
    "    str=\"\"\n",
    "    for i in s:\n",
    "        str = i+str\n",
    "    return str\n",
    "s=\"dilip\"\n",
    "print(reverse(s))"
   ]
  },
  {
   "cell_type": "markdown",
   "id": "f101360b-d847-48ce-88fc-ee3a6b3f98e9",
   "metadata": {},
   "source": [
    "#Q2.Implement a function to check if a given string is a palindrome.\n",
    "def palidrome(s):\n",
    "    return s ==s[::-1]\n",
    "s=\"dilid\"\n",
    "palidrome(s)\n",
    "if palidrome:\n",
    "    print(\"palidrome\")\n",
    "else:\n",
    "    print(\"not palidrome\")"
   ]
  },
  {
   "cell_type": "markdown",
   "id": "e88f0701-32f0-4725-8ec1-834695e42099",
   "metadata": {},
   "source": [
    "#Q3.Write a program to find the largest element in a given list.\n",
    "list=[9,8,5,7,10,3]\n",
    "p=(max(list))\n",
    "print(p)"
   ]
  },
  {
   "cell_type": "markdown",
   "id": "a3080931-632c-4d8a-95bb-882a61f7f895",
   "metadata": {},
   "source": [
    "#Q3\n",
    "def mymax(list1):\n",
    "    max=list1[0]\n",
    "    for i in list1:\n",
    "        if i>max:\n",
    "            max=i\n",
    "    return max\n",
    "list1=[2,6,8,2,34]  \n",
    "print(mymax(list1))"
   ]
  },
  {
   "cell_type": "markdown",
   "id": "6c5f8d53-d1c3-4e1f-81bb-a41002a849c5",
   "metadata": {},
   "source": [
    "#Q4.Implement a function to count the occurrence of each element in a list.\n",
    "list=[2,6,8,2,34]\n",
    "print(\"8 occurnce\",list.count(8))\n",
    "print(\"2 occurnce\",list.count(2))\n",
    "print(\"6 occurnce\",list.count(6))"
   ]
  },
  {
   "cell_type": "markdown",
   "id": "e0ad3302-638e-4ffa-b5b2-d561e83e9935",
   "metadata": {},
   "source": [
    "def count1(list,x):\n",
    "    return list.count(x)\n",
    "list=[12,54,67,86,89,12,54,67,67,67,67]\n",
    "x=12\n",
    "print(count1(list,x))"
   ]
  },
  {
   "cell_type": "markdown",
   "id": "4ea15a54-96a4-4f22-9bc3-56dfee267d42",
   "metadata": {},
   "source": [
    "#Q5.Write a Python program to find the second largest number in a list.\n",
    "list=[2,6,8,3,34] \n",
    "p=sorted(list)\n",
    "print(p[-2])"
   ]
  },
  {
   "cell_type": "markdown",
   "id": "37359bb9-9965-48e3-8ac2-c9b6d79024d2",
   "metadata": {},
   "source": [
    "#Q6. Implement a function to remove duplicate elements from a list.\n",
    "def remove(dublicate):\n",
    "    finalnum=[]\n",
    "    for num in dublicate:\n",
    "        if num not in finalnum:\n",
    "            finalnum.append(num)\n",
    "    return finalnum\n",
    "dublicate=[12,54,67,86,89,12,54,67,67,67,67]\n",
    "print(remove(dublicate))        "
   ]
  },
  {
   "cell_type": "markdown",
   "id": "f77da081-60bd-482a-9fe5-b37783935346",
   "metadata": {},
   "source": [
    "dup= [2, 4, 10, 20, 5, 2, 20, 4]\n",
    "print(list(set(dup)))\n",
    "\n"
   ]
  },
  {
   "cell_type": "markdown",
   "id": "ee1dd968-e052-448b-8b9d-e176a79c56f9",
   "metadata": {},
   "source": [
    "#Q7.Write a program to calculate the factorial of a given number.\n",
    "import math\n",
    "def factorial(n):\n",
    "    return(math.factorial(n))\n",
    "n=4\n",
    "print(factorial(n))"
   ]
  },
  {
   "cell_type": "markdown",
   "id": "2da17378-fd96-486c-8937-efdf8faa86a5",
   "metadata": {},
   "source": [
    "#Q8. Implement a function to check if a given number is prime.\n",
    "num=12\n",
    "if num >1:\n",
    "    for i in range (2,int(num/2)+1):\n",
    "        if (num % i)==0:\n",
    "            print(\"this is not prime\",num)\n",
    "            break\n",
    "    else:\n",
    "        print(\"this is prime\", num)\n",
    "else:\n",
    "    print(\"this is not prime\", num)\n",
    "            "
   ]
  },
  {
   "cell_type": "markdown",
   "id": "39d9d488-f469-460e-92dd-789621393fa0",
   "metadata": {},
   "source": [
    "#Q9.Write a Python program to sort a list of integers in ascending order.\n",
    "l=[2,6,8,3,34]\n",
    "l.sort()\n",
    "print(l)"
   ]
  },
  {
   "cell_type": "markdown",
   "id": "e99afbe3-5286-48e2-ac0d-c8bd654a607e",
   "metadata": {},
   "source": [
    "#Q10. Implement a function to find the sum of all numbers in a list.\n",
    "total=0\n",
    "l1=[2,6,8,3,34]\n",
    "for i in range(0, len(l1)):\n",
    "    total= total+l1[i]\n",
    "print(total)\n"
   ]
  },
  {
   "cell_type": "markdown",
   "id": "497df6e0-46df-4f37-8944-fc3c4fbfa37d",
   "metadata": {},
   "source": [
    "total_all=sum(l1)\n",
    "print(total_all)"
   ]
  },
  {
   "cell_type": "markdown",
   "id": "2c43e40f-5265-47c4-b3e2-843675e25839",
   "metadata": {},
   "source": [
    "#Q11 Write a program to find the common elements between two lists.\n",
    "c1=[2, 3, 6, 8, 34]\n",
    "c2=[2,5,7,6,3,1]\n",
    "common=[value for value in c1 if value in c2]\n",
    "print(common)\n",
    "#print(set(c1).intersection(c2))"
   ]
  },
  {
   "cell_type": "markdown",
   "id": "95056ea5-66e1-4697-9987-61fd29345905",
   "metadata": {},
   "source": [
    "#Q12. Implement a function to check if a given string is an anagram of another string.\n",
    "def check(a,b):\n",
    "    if (sorted(a)==sorted(b)):\n",
    "        print(\"this is anagram\")\n",
    "    else:\n",
    "        print(\"this is not anagram\")\n",
    "\n",
    "a=\"act\"\n",
    "b=\"cat\"\n",
    "check(a,b)"
   ]
  },
  {
   "cell_type": "markdown",
   "id": "567eacec-4a21-45b9-be91-745d882a182d",
   "metadata": {},
   "source": [
    "#Q13.Write a Python program to generate all permutations of a given string\n",
    "from itertools import permutations\n",
    "word=[''.join(s) for s in permutations (\"ist\")]\n",
    "print(word)"
   ]
  },
  {
   "cell_type": "markdown",
   "id": "05b114cd-db1f-4894-842c-172b622a80ef",
   "metadata": {},
   "source": [
    "#Q14. Implement a function to calculate the Fibonacci sequence up to a given number of terms\n",
    "num=int(input(\"enter the number\"))\n",
    "a=0\n",
    "b=1\n",
    "count = 0\n",
    "if num < 0:\n",
    "    print(\"please enter positive number\")\n",
    "elif num==1:\n",
    "    print(a)\n",
    "else:\n",
    "    print(\"fibonacci sequence\")\n",
    "    while count < num:\n",
    "        print(a)\n",
    "        c= a+ b\n",
    "        a=b\n",
    "        b=c\n",
    "        count += 1\n"
   ]
  },
  {
   "cell_type": "markdown",
   "id": "06da4cbd-9590-4f42-9fec-2e770ec4e023",
   "metadata": {},
   "source": [
    "num= 10\n",
    "n1,n2=0,1\n",
    "print(\"fibonacci series\", n1,n2 , end=\" \")\n",
    "for i in range(2,num):\n",
    "    n3=n1+n2\n",
    "    n1=n2\n",
    "    n2=n3\n",
    "    print(n3,end=\" \")\n",
    "print()"
   ]
  },
  {
   "cell_type": "markdown",
   "id": "33d290cb-907b-4609-9a72-49ca160c357f",
   "metadata": {},
   "source": [
    "#Q15. Write a program to find the median of a list of numbers.\n",
    "list2=[2, 3, 6, 8, 34,5]\n",
    "mid=len(list2)//2\n",
    "print(mid)\n"
   ]
  },
  {
   "cell_type": "markdown",
   "id": "fe048d9f-b8be-4230-94b4-b4b020642a01",
   "metadata": {},
   "source": [
    "import statistics\n",
    "print(\"meadin of list=\", statistics.median(list2))"
   ]
  },
  {
   "cell_type": "markdown",
   "id": "bae45024-8b3f-42bb-8c27-0a4e9cf0824c",
   "metadata": {},
   "source": [
    "#Q16.Implement a function to check if a given list is sorted in non-decreasing order.\n",
    "list4=[2, 3, 6, 8, 34,5]\n",
    "if list4==list4.sort(reverse=True):\n",
    "    print(\"these are decreaseing order\")\n",
    "else:\n",
    "    print(\"non-decreasing\")"
   ]
  },
  {
   "cell_type": "markdown",
   "id": "1652d8c4-51f4-454d-add1-f3aa804d3093",
   "metadata": {},
   "source": [
    "def non_decreasing(list4):\n",
    "    if list4==list4.sort(reverse=True):\n",
    "        print(\"these are decreaseing order\")\n",
    "    else:\n",
    "        print(\"non-decreasing\")\n",
    "non_decreasing(list4)"
   ]
  },
  {
   "cell_type": "markdown",
   "id": "3ead9663-b514-4f91-8641-ad747dd08e8d",
   "metadata": {},
   "source": [
    "#17. Write a Python program to find the intersection of two lists.\n",
    "l1=[2, 3, 6, 8, 34]\n",
    "l2=[2,5,7,6,3,1]\n",
    "def intersection_list(l1,l2):\n",
    "    return list(set(l1) & set(l2))\n",
    "intersection_list(l1,l2)"
   ]
  },
  {
   "cell_type": "markdown",
   "id": "c9f0ac15-522d-4102-9631-e65d2993b3fd",
   "metadata": {},
   "source": [
    "def intersection (l1,l2):\n",
    "    l3=[value for value in l1 if value in l2]\n",
    "    return l3\n",
    "intersection(l1,l2)"
   ]
  },
  {
   "cell_type": "markdown",
   "id": "c20b1034-8a83-4aca-8a51-8d560e68da12",
   "metadata": {},
   "source": [
    "#Q18. Implement a function to find the maximum subarray sum in a given list.\n",
    "nums = [-2,1,-3,4,-1,2,1,-5,4]\n",
    "def maxsubarray(nums):\n",
    "    n=len(nums)\n",
    "    maximumSum, currSumSubarry=float('-inf'),0\n",
    "    for i in range (n):\n",
    "        currSumSubarry +=nums[i]\n",
    "        maximumSum = max(maximumSum,currSumSubarry)\n",
    "        currSumSubarry=max(currSumSubarry,0)\n",
    "        return maximumSum\n",
    "maxsubarray(nums)"
   ]
  },
  {
   "cell_type": "markdown",
   "id": "6441bcaf-a0fa-42e8-b70b-521db1186dcc",
   "metadata": {},
   "source": [
    "#19. Write a program to remove all vowels from a given string.\n",
    "def rem_vowel(string):\n",
    "    vowel=['a','i','e','o','u']\n",
    "    result=[letter for letter in string if letter.lower() not in vowel ]\n",
    "    result=''.join(result)\n",
    "    print(result)\n",
    "string= \"dilip kumar gupta\"\n",
    "rem_vowel(string)"
   ]
  },
  {
   "cell_type": "markdown",
   "id": "5d8e1c93-a9f9-4ae4-b548-82b04b52b1cd",
   "metadata": {},
   "source": [
    "import re\n",
    "\n",
    "def remo_vowel(string):\n",
    "    return(re.sub(\"[aeiouAEIOU]\",\"\",string))\n",
    "remo_vowel(string)"
   ]
  },
  {
   "cell_type": "markdown",
   "id": "4e67368d-b8de-4769-af18-645eedfde033",
   "metadata": {},
   "source": [
    "#Q20.Implement a function to reverse the order of words in a given sentence.\n",
    "def reverse_str(string):\n",
    "    return (string[::-1])\n",
    "reverse_str(string)"
   ]
  },
  {
   "cell_type": "markdown",
   "id": "e7fe64c0-9aa2-49c3-95cd-3df175ed74f8",
   "metadata": {},
   "source": [
    "s = \"i like this python program \"\n",
    "words = s.split(' ')\n",
    "string = []\n",
    "for word in words:\n",
    "    string.insert(0, word)\n",
    " \n",
    " \n",
    "print(\" \".join(string))"
   ]
  },
  {
   "cell_type": "markdown",
   "id": "418f85f8-51a0-4594-aeeb-d4c9818f443e",
   "metadata": {},
   "source": [
    "#21. Write a Python program to check if two strings are anagrams of each other.\n",
    "def check(str1,str2):\n",
    "    if(sorted(str1)==sorted(str2)):\n",
    "        print (\"this is a anagrams\")\n",
    "    else:\n",
    "        print(\"this is not anagrams\")\n",
    "str1=\"chupa\"\n",
    "str2=\"pachut\"\n",
    "check(str1,str2)   "
   ]
  },
  {
   "cell_type": "markdown",
   "id": "07d98c8e-6fe3-422c-920e-f7303a3560ed",
   "metadata": {},
   "source": [
    "#Q22. Implement a function to find the first non-repeating character in a string.\n",
    "def firstUniqChar(s): \n",
    "        for i,c in enumerate(s):\n",
    "            if s.count(c)==1:\n",
    "                return i\n",
    "                break\n",
    "        return -1\n",
    "s=\"level\"\n",
    "firstUniqChar(s)"
   ]
  },
  {
   "cell_type": "markdown",
   "id": "15fa0477-3a72-41e9-9278-3bb058f5648d",
   "metadata": {},
   "source": [
    "#23. Write a program to find the prime factors of a given number.\n",
    "\n",
    "def Prime_factorial(n,arr):\n",
    "    if n<4:\n",
    "        return n\n",
    "    for i in range(2,int(2+n//2)):\n",
    "        if i ==(1+n//2):\n",
    "            arr.append(n)\n",
    "            n=1\n",
    "            return\n",
    "        if n% i==0:\n",
    "            arr.append(i)\n",
    "            n=n//i\n",
    "            Prime_factorial(n,arr)\n",
    "            break\n",
    "    return arr\n",
    "n=220\n",
    "arr=[]\n",
    "print(Prime_factorial(n,arr))\n",
    "    \n",
    "    \n"
   ]
  },
  {
   "cell_type": "markdown",
   "id": "9f0ae932-3d5c-41d4-81dd-abbd5943e299",
   "metadata": {},
   "source": [
    "#24. Implement a function to check if a given number is a power of two.\n",
    "def power_two(n):\n",
    "    return n>0 and n & (n-1)==0\n",
    "n=3\n",
    "power_two(n)"
   ]
  },
  {
   "cell_type": "markdown",
   "id": "9180c9c8-5377-4b05-a4c1-9748747ddd1b",
   "metadata": {},
   "source": [
    "#25. Write a Python program to merge two sorted lists into a single sorted list.\n",
    "l1=[6,4,8,2,9]\n",
    "l2=[3,8,2,6,8,9]\n",
    "res=sorted(l1 + l2)\n",
    "print(str(res))"
   ]
  },
  {
   "cell_type": "markdown",
   "id": "1a70a76e-1e71-46e9-83a4-7b9edaf0db37",
   "metadata": {},
   "source": [
    "#Q26. Implement a function to find the mode of a list of numbers.\n",
    "nums=[6, 4, 8, 2, 9, 3, 8, 2, 6, 8, 9]\n",
    "from statistics import mode\n",
    "max(set(nums), key= nums.count)"
   ]
  },
  {
   "cell_type": "markdown",
   "id": "c8710d3d-c5a9-48f2-a24d-36857a8510d6",
   "metadata": {},
   "source": [
    "print(mode(nums))"
   ]
  },
  {
   "cell_type": "markdown",
   "id": "97a8a090-763b-4481-ad51-bf33966abe9e",
   "metadata": {},
   "source": [
    "#27. Write a program to find the greatest common divisor (GCD) of two numbers.\n",
    "math.gcd(60,48)"
   ]
  },
  {
   "cell_type": "markdown",
   "id": "bd6c2c6a-d412-48e6-bc27-12debc53ab7c",
   "metadata": {},
   "source": [
    "a=60\n",
    "b=80\n",
    "gcd= lambda a,b: a if b ==0 else gcd(b, a%b)\n",
    "print(gcd(a,b))"
   ]
  },
  {
   "cell_type": "markdown",
   "id": "a90089b2-d3da-4c16-bac7-eb70350bdea9",
   "metadata": {},
   "source": [
    "#28. Implement a function to calculate the square root of a given number.\n",
    "def squrare_root(num):\n",
    "    if num< 0:\n",
    "        return\n",
    "    else:\n",
    "        return num**0.5\n",
    "num=int(input(\"enter the number\"))\n",
    "squrare_root(num)        \n",
    "        \n",
    "        \n",
    "    "
   ]
  },
  {
   "cell_type": "markdown",
   "id": "9c8aea6c-504d-486a-95d7-cebc00851adb",
   "metadata": {},
   "source": [
    "#29. Write a Python program to check if a given string is a valid palindrome ignoring non-alphanumeric characters.\n",
    "def palidrom(str):\n",
    "    if  (str==str[::-1]):\n",
    "        print(\"this is palidrome\")\n",
    "    else:\n",
    "        print(\"not palidrome\")\n",
    "str=(input(\"only enter string \"))\n",
    "palidrom(str)"
   ]
  },
  {
   "cell_type": "markdown",
   "id": "e6bb82af-2576-4432-b0e5-cea30ee6952c",
   "metadata": {},
   "source": [
    "def Palidrome(s):\n",
    "    rev=''.join(reversed(s))\n",
    "    if (s==rev):\n",
    "        return True\n",
    "    return False\n",
    "ans=Palidrome(s)\n",
    "\n",
    "if ans:\n",
    "    print(\"yes\")\n",
    "else:\n",
    "    print(\"no\")"
   ]
  },
  {
   "cell_type": "markdown",
   "id": "2ba4ecc9-5b64-4235-afe9-dafb9ba99ee5",
   "metadata": {},
   "source": [
    "#Q30. Implement a function to find the minimum element in a rotated sorted list.\n",
    "\n",
    "def findmin(num):\n",
    "    low,high= 0,len(num)-1\n",
    "    while low <= high:\n",
    "        if num[low] <=num[high]:\n",
    "            return num[low]\n",
    "        mid=(low+high)//2\n",
    "        if num[low]> num[mid]:\n",
    "            high = mid\n",
    "        else:\n",
    "            low = mid + 1\n",
    "num=[3,4,5,1,2]\n",
    "findmin(num)       "
   ]
  },
  {
   "cell_type": "code",
   "execution_count": null,
   "id": "7df67f17-7612-474f-9163-7ccf17777d76",
   "metadata": {},
   "outputs": [],
   "source": []
  },
  {
   "cell_type": "markdown",
   "id": "31ae05ec-2074-404a-b2b2-2a839ea64adc",
   "metadata": {},
   "source": [
    "#Q31. Write a program to find the sum of all even numbers in a list.\n",
    "\n",
    "l2=[3,8,2,6,8,9]\n",
    "sum(num for num in l2 if not num%2)"
   ]
  },
  {
   "cell_type": "markdown",
   "id": "6db2985b-f131-4507-bddd-34765b6a6665",
   "metadata": {},
   "source": [
    "sum(filter(lambda x: not x%2,l2))"
   ]
  },
  {
   "cell_type": "markdown",
   "id": "55c674d4-fe92-46ea-9447-9f833e038677",
   "metadata": {},
   "source": [
    "result=0\n",
    "for i in l2:\n",
    "    if i%2==0:\n",
    "        result += i\n",
    "result"
   ]
  },
  {
   "cell_type": "code",
   "execution_count": null,
   "id": "13dea0d1-b599-40cf-b61c-aac01e9c3336",
   "metadata": {},
   "outputs": [],
   "source": [
    "\n"
   ]
  },
  {
   "cell_type": "markdown",
   "id": "e9ac0181-f6b1-4bc4-a35f-9d83495e63da",
   "metadata": {},
   "source": [
    "#Q32.Implement a function to calculate the power of a number using recursion.\n",
    "\n",
    "def power(a,b):\n",
    "    if b!=0:\n",
    "        return a*power(a,b-1)\n",
    "    else:\n",
    "        return 1\n",
    "a=4\n",
    "b=2\n",
    "power(a,b)"
   ]
  },
  {
   "cell_type": "markdown",
   "id": "e20ef81e-0c71-4f9a-bfa2-8c6cc8c77d3a",
   "metadata": {},
   "source": [
    "a=4\n",
    "b=2\n",
    "power(a,b)"
   ]
  },
  {
   "cell_type": "markdown",
   "id": "0e73dd53-2ae3-46ed-a4ba-d1e6fd15fa5b",
   "metadata": {},
   "source": [
    "#Q33. Write a Python program to remove duplicates from a list while preserving the order.\n",
    "\n",
    "l2=[3,8,2,6,8,9]\n",
    "list(dict.fromkeys(l2))"
   ]
  },
  {
   "cell_type": "markdown",
   "id": "bde91c76-c201-4f68-a425-9d847f0f632b",
   "metadata": {},
   "source": [
    "#Q34. Implement a function to find the longest common prefix among a list of strings.\n",
    "\n",
    "def CommonPrefix( strs):\n",
    "        res = \"\"\n",
    "        for a in zip(*strs):\n",
    "            if len(set(a)) == 1: \n",
    "                res += a[0]\n",
    "            else: \n",
    "                return res\n",
    "        return res\n",
    "strs= ['flow', 'flower', 'flight']\n",
    "CommonPrefix( strs)"
   ]
  },
  {
   "cell_type": "markdown",
   "id": "f599e5fd-33e3-44ae-bb32-9aeb0b8a6e40",
   "metadata": {},
   "source": [
    "#Q35. Write a program to check if a given number is a perfect square.\n",
    "n=13\n",
    "for i in range(n+1):\n",
    "    if i**2==n:\n",
    "        print(\"prefect_Squre\")\n",
    "        break\n",
    "else:\n",
    "    print(\"not perfect_squre\")\n",
    "    "
   ]
  },
  {
   "cell_type": "markdown",
   "id": "4d47d3ec-e19c-4cb6-a24b-3149dcb3c4a3",
   "metadata": {},
   "source": [
    "#Q36. Implement a function to calculate the product of all elements in a list.\n",
    "l2=[3,8,2,6,8,9]\n",
    "def calculate(l2):\n",
    "    result=0\n",
    "    for x in l2:\n",
    "        result= result + x\n",
    "    return result\n",
    "calculate(l2)"
   ]
  },
  {
   "cell_type": "code",
   "execution_count": 53,
   "id": "fa46d50f-a495-4591-9d6a-5e110d4eccb5",
   "metadata": {},
   "outputs": [
    {
     "name": "stdout",
     "output_type": "stream",
     "text": [
      "arrives still destiny it from run it dread\n"
     ]
    }
   ],
   "source": [
    "#Q37. Write a Python program to reverse the order of words in a sentence  while preserving the word order.\n",
    "sentence = \"dread it run from it destiny still arrives\"\n",
    "wordlist=sentence.split()\n",
    "reverselist=wordlist[::-1]\n",
    "reversesentence=\" \".join(reverselist)\n",
    "print(reversesentence)"
   ]
  },
  {
   "cell_type": "code",
   "execution_count": 57,
   "id": "1daf1093-40af-4506-9eab-27dac4721a52",
   "metadata": {},
   "outputs": [
    {
     "name": "stdout",
     "output_type": "stream",
     "text": [
      "[4, 12, 15]\n"
     ]
    }
   ],
   "source": [
    "#Q38. Implement a function to find the missing number in a given list of consecutive numbers\n",
    "def findmissing(n):\n",
    "    numbers=set(n)\n",
    "    length=len(n)\n",
    "    output=[]\n",
    "    for i in range(1,n[-1]):\n",
    "        if i not in numbers:\n",
    "            output.append(i)\n",
    "    return output\n",
    "                \n",
    "n = [1, 2, 3, 5, 6, 7, 8, 9, 10, 11, 13, 14, 16]\n",
    "print(findmissing(n))                          "
   ]
  },
  {
   "cell_type": "code",
   "execution_count": 6,
   "id": "43caaf77-6ca4-433a-b3e6-702bcd8e9447",
   "metadata": {},
   "outputs": [
    {
     "name": "stdin",
     "output_type": "stream",
     "text": [
      "enter the number 123\n"
     ]
    },
    {
     "name": "stdout",
     "output_type": "stream",
     "text": [
      "6\n"
     ]
    }
   ],
   "source": [
    "#Q39. Write a program to find the sum of digits of a given number.\n",
    "l2=int(input(\"enter the number\"))\n",
    "sum=0\n",
    "for i in str(l2):\n",
    "    sum= sum+int(i)\n",
    "print(sum)\n"
   ]
  },
  {
   "cell_type": "code",
   "execution_count": null,
   "id": "11669d0e-05d8-4d3d-8ae3-7e074ba0ebb8",
   "metadata": {},
   "outputs": [],
   "source": [
    "num=input(\"enter number\")\n",
    "s=0\n",
    "for i in num:\n",
    "    s = s + int(i)\n",
    "print(s)"
   ]
  },
  {
   "cell_type": "code",
   "execution_count": 1,
   "id": "eebb0a35-6af3-4551-8e6e-72ff468f21b6",
   "metadata": {},
   "outputs": [
    {
     "name": "stdout",
     "output_type": "stream",
     "text": [
      "14\n"
     ]
    }
   ],
   "source": [
    "num=12344\n",
    "sum=0\n",
    "while num!=0:\n",
    "    digit = int(num%10)\n",
    "    sum +=digit\n",
    "    num= num/10\n",
    "print(sum)"
   ]
  },
  {
   "cell_type": "code",
   "execution_count": 8,
   "id": "a46e8b9b-c21b-49c9-9d56-a42f350a917f",
   "metadata": {},
   "outputs": [
    {
     "data": {
      "text/plain": [
       "'not palidrome'"
      ]
     },
     "execution_count": 8,
     "metadata": {},
     "output_type": "execute_result"
    }
   ],
   "source": [
    "#Q40. Implement a function to check if a given string is a valid palindrome considering case sensitivity.\n",
    "\n",
    "string=\"tyrt\"\n",
    "def stri(string):\n",
    "    if string == string[::-1]:\n",
    "        return \"palidrom\"\n",
    "    return \"not palidrome\"\n",
    "stri(string)"
   ]
  },
  {
   "cell_type": "code",
   "execution_count": 13,
   "id": "611a902a-c08c-4eb6-a04f-61006f8455e0",
   "metadata": {},
   "outputs": [
    {
     "data": {
      "text/plain": [
       "2"
      ]
     },
     "execution_count": 13,
     "metadata": {},
     "output_type": "execute_result"
    }
   ],
   "source": [
    "#Q41. Write a Python program to find the smallest missing positive integer in a list.\n",
    "def findnum(num):\n",
    "    if not num:\n",
    "        return 1\n",
    "    num=set(num)\n",
    "    for i in range(1,len(num)+2):\n",
    "        if i not in num:\n",
    "            return i\n",
    "num=[1,3,4,5,-1]\n",
    "findnum(num)"
   ]
  },
  {
   "cell_type": "code",
   "execution_count": 1,
   "id": "8d5aa535-6716-475f-ba4e-450436eaefab",
   "metadata": {},
   "outputs": [
    {
     "data": {
      "text/plain": [
       "'baab'"
      ]
     },
     "execution_count": 1,
     "metadata": {},
     "output_type": "execute_result"
    }
   ],
   "source": [
    "#Q42. Implement a function to find the longest palindrome substring in a given string.\n",
    "\n",
    "def longestPalindrome(s):\n",
    "    n=len(s)\n",
    "    def expand_center(i,j):            \n",
    "        while 0<=i<=j<n and s[i]==s[j]:\n",
    "            i-=1\n",
    "            j+=1                \n",
    "        \n",
    "        return (i+1, j)                \n",
    "    \n",
    "    res=max([expand_center(i,i+offset) for i in range(n) for offset in range(2)], key=lambda x: x[1]-x[0]+1)\n",
    "    \n",
    "    return s[res[0]:res[1]]\n",
    "s=\"baabab\"\n",
    "longestPalindrome(s)"
   ]
  },
  {
   "cell_type": "code",
   "execution_count": 2,
   "id": "ac25d207-7cf5-4b64-85ec-1992a07d7d5a",
   "metadata": {},
   "outputs": [
    {
     "name": "stdout",
     "output_type": "stream",
     "text": [
      "8 has occurred 5 times\n"
     ]
    }
   ],
   "source": [
    "#43. Write a program to find the number of occurrences of a given element in a list.\n",
    "def countX(lst, x):\n",
    "    count = 0\n",
    "    for ele in lst:\n",
    "        if (ele == x):\n",
    "            count = count + 1\n",
    "    return count\n",
    "lst = [8, 6, 8, 10, 8, 20, 10, 8, 8]\n",
    "x = 8\n",
    "print('{} has occurred {} times'.format(x,countX(lst, x)))"
   ]
  },
  {
   "cell_type": "code",
   "execution_count": 3,
   "id": "52b36f7b-8c5f-4b65-bbd2-cc0ad9dc9b7c",
   "metadata": {},
   "outputs": [
    {
     "name": "stdout",
     "output_type": "stream",
     "text": [
      "8 has occurred 5 times\n"
     ]
    }
   ],
   "source": [
    "def countX(lst, x):\n",
    "    return lst.count(x)\n",
    "\n",
    "lst = [8, 6, 8, 10, 8, 20, 10, 8, 8]\n",
    "x = 8\n",
    "print('{} has occurred {} times'.format(x,countX(lst, x)))"
   ]
  },
  {
   "cell_type": "code",
   "execution_count": 21,
   "id": "3620dc4f-59a4-4de4-af8e-1ff1f861bdee",
   "metadata": {},
   "outputs": [
    {
     "data": {
      "text/plain": [
       "'The entered number is a perfect number'"
      ]
     },
     "execution_count": 21,
     "metadata": {},
     "output_type": "execute_result"
    }
   ],
   "source": [
    "#Q44. Implement a function to check if a given number is a perfect number.\n",
    "def pre(num):  \n",
    "    sum=0  \n",
    "    for i in range(1,num):  \n",
    "        if (num%i==0):  \n",
    "            sum=sum+i  \n",
    "    if(sum==num):  \n",
    "        return \"The entered number is a perfect number\"  \n",
    "    else:  \n",
    "        return \"The entered number is not a perfect number\"  \n",
    "num=6\n",
    "pre(num)"
   ]
  },
  {
   "cell_type": "code",
   "execution_count": 29,
   "id": "161cee15-15f3-4dbf-86cf-b5d3431cea8b",
   "metadata": {},
   "outputs": [
    {
     "data": {
      "text/plain": [
       "'abcdesw'"
      ]
     },
     "execution_count": 29,
     "metadata": {},
     "output_type": "execute_result"
    }
   ],
   "source": [
    "#45. Write a Python program to remove all duplicates from a string.\n",
    "from collections import OrderedDict\n",
    "def remove_dublicate(n):\n",
    "    return \"\".join(OrderedDict.fromkeys(n))\n",
    "n=\"abcdeasswe\"\n",
    "remove_dublicate(n)"
   ]
  },
  {
   "cell_type": "code",
   "execution_count": 30,
   "id": "b3e69dee-2645-426e-881e-67333e888d88",
   "metadata": {},
   "outputs": [
    {
     "data": {
      "text/plain": [
       "2"
      ]
     },
     "execution_count": 30,
     "metadata": {},
     "output_type": "execute_result"
    }
   ],
   "source": [
    "#Q46. Implement a function to find the first missing positive\n",
    "def findnum(num):\n",
    "    if not num:\n",
    "        return 1\n",
    "    num=set(num)\n",
    "    for i in range(1,len(num)+2):\n",
    "        if i not in num:\n",
    "            return i\n",
    "num=[1,3,4,5,-1]\n",
    "findnum(num)"
   ]
  },
  {
   "cell_type": "code",
   "execution_count": null,
   "id": "fbcbc9ab-f6b1-4b0e-9db7-c7d7c60c05bd",
   "metadata": {},
   "outputs": [],
   "source": []
  }
 ],
 "metadata": {
  "kernelspec": {
   "display_name": "Python 3 (ipykernel)",
   "language": "python",
   "name": "python3"
  },
  "language_info": {
   "codemirror_mode": {
    "name": "ipython",
    "version": 3
   },
   "file_extension": ".py",
   "mimetype": "text/x-python",
   "name": "python",
   "nbconvert_exporter": "python",
   "pygments_lexer": "ipython3",
   "version": "3.10.8"
  }
 },
 "nbformat": 4,
 "nbformat_minor": 5
}
